{
 "cells": [
  {
   "cell_type": "code",
   "execution_count": 1,
   "id": "3a7b1f02",
   "metadata": {
    "_cell_guid": "ffe9adf9-e6c9-4448-8c03-a70bc99cf8d0",
    "_uuid": "a215c6c1-797b-435f-96c5-4b1fd318c00f",
    "collapsed": false,
    "execution": {
     "iopub.execute_input": "2023-10-21T23:19:28.940052Z",
     "iopub.status.busy": "2023-10-21T23:19:28.939680Z",
     "iopub.status.idle": "2023-10-21T23:19:29.356502Z",
     "shell.execute_reply": "2023-10-21T23:19:29.355327Z"
    },
    "jupyter": {
     "outputs_hidden": false
    },
    "papermill": {
     "duration": 0.424917,
     "end_time": "2023-10-21T23:19:29.359497",
     "exception": false,
     "start_time": "2023-10-21T23:19:28.934580",
     "status": "completed"
    },
    "tags": []
   },
   "outputs": [],
   "source": [
    "# This Python 3 environment comes with many helpful analytics libraries installed\n",
    "# It is defined by the kaggle/python Docker image: https://github.com/kaggle/docker-python\n",
    "# For example, here's several helpful packages to load\n",
    "\n",
    "import numpy as np # linear algebra\n",
    "import pandas as pd # data processing, CSV file I/O (e.g. pd.read_csv)\n",
    "\n",
    "# Input data files are available in the read-only \"../input/\" directory\n",
    "# For example, running this (by clicking run or pressing Shift+Enter) will list all files under the input directory\n",
    "\n",
    "import os\n",
    "for dirname, _, filenames in os.walk('/kaggle/input'):\n",
    "    for filename in filenames:\n",
    "        print(os.path.join(dirname, filename))\n",
    "\n",
    "# You can write up to 20GB to the current directory (/kaggle/working/) that gets preserved as output when you create a version using \"Save & Run All\" \n",
    "# You can also write temporary files to /kaggle/temp/, but they won't be saved outside of the current session"
   ]
  },
  {
   "cell_type": "code",
   "execution_count": 2,
   "id": "5f95a496",
   "metadata": {
    "_cell_guid": "45ba3191-08cd-4472-9e95-20a9301dc7ef",
    "_uuid": "cafc76bb-6ba3-45a6-86c1-558c5b36c7b3",
    "collapsed": false,
    "execution": {
     "iopub.execute_input": "2023-10-21T23:19:29.368692Z",
     "iopub.status.busy": "2023-10-21T23:19:29.368181Z",
     "iopub.status.idle": "2023-10-21T23:20:08.078794Z",
     "shell.execute_reply": "2023-10-21T23:20:08.077458Z"
    },
    "jupyter": {
     "outputs_hidden": false
    },
    "papermill": {
     "duration": 38.719204,
     "end_time": "2023-10-21T23:20:08.081697",
     "exception": false,
     "start_time": "2023-10-21T23:19:29.362493",
     "status": "completed"
    },
    "tags": []
   },
   "outputs": [
    {
     "name": "stdout",
     "output_type": "stream",
     "text": [
      "Requirement already satisfied: pandas in /opt/conda/lib/python3.10/site-packages (2.0.3)\r\n",
      "Requirement already satisfied: numpy in /opt/conda/lib/python3.10/site-packages (1.23.5)\r\n",
      "Requirement already satisfied: matplotlib in /opt/conda/lib/python3.10/site-packages (3.7.2)\r\n",
      "Collecting yfinance\r\n",
      "  Downloading yfinance-0.2.31-py2.py3-none-any.whl (65 kB)\r\n",
      "\u001b[2K     \u001b[90m━━━━━━━━━━━━━━━━━━━━━━━━━━━━━━━━━━━━━━━━\u001b[0m \u001b[32m65.6/65.6 kB\u001b[0m \u001b[31m3.1 MB/s\u001b[0m eta \u001b[36m0:00:00\u001b[0m\r\n",
      "\u001b[?25hRequirement already satisfied: python-dateutil>=2.8.2 in /opt/conda/lib/python3.10/site-packages (from pandas) (2.8.2)\r\n",
      "Requirement already satisfied: pytz>=2020.1 in /opt/conda/lib/python3.10/site-packages (from pandas) (2023.3)\r\n",
      "Requirement already satisfied: tzdata>=2022.1 in /opt/conda/lib/python3.10/site-packages (from pandas) (2023.3)\r\n",
      "Requirement already satisfied: contourpy>=1.0.1 in /opt/conda/lib/python3.10/site-packages (from matplotlib) (1.1.0)\r\n",
      "Requirement already satisfied: cycler>=0.10 in /opt/conda/lib/python3.10/site-packages (from matplotlib) (0.11.0)\r\n",
      "Requirement already satisfied: fonttools>=4.22.0 in /opt/conda/lib/python3.10/site-packages (from matplotlib) (4.40.0)\r\n",
      "Requirement already satisfied: kiwisolver>=1.0.1 in /opt/conda/lib/python3.10/site-packages (from matplotlib) (1.4.4)\r\n",
      "Requirement already satisfied: packaging>=20.0 in /opt/conda/lib/python3.10/site-packages (from matplotlib) (21.3)\r\n",
      "Requirement already satisfied: pillow>=6.2.0 in /opt/conda/lib/python3.10/site-packages (from matplotlib) (9.5.0)\r\n",
      "Requirement already satisfied: pyparsing<3.1,>=2.3.1 in /opt/conda/lib/python3.10/site-packages (from matplotlib) (3.0.9)\r\n",
      "Requirement already satisfied: requests>=2.31 in /opt/conda/lib/python3.10/site-packages (from yfinance) (2.31.0)\r\n",
      "Collecting multitasking>=0.0.7 (from yfinance)\r\n",
      "  Downloading multitasking-0.0.11-py3-none-any.whl (8.5 kB)\r\n",
      "Requirement already satisfied: lxml>=4.9.1 in /opt/conda/lib/python3.10/site-packages (from yfinance) (4.9.3)\r\n",
      "Requirement already satisfied: appdirs>=1.4.4 in /opt/conda/lib/python3.10/site-packages (from yfinance) (1.4.4)\r\n",
      "Requirement already satisfied: frozendict>=2.3.4 in /opt/conda/lib/python3.10/site-packages (from yfinance) (2.3.8)\r\n",
      "Collecting peewee>=3.16.2 (from yfinance)\r\n",
      "  Downloading peewee-3.17.0.tar.gz (2.9 MB)\r\n",
      "\u001b[2K     \u001b[90m━━━━━━━━━━━━━━━━━━━━━━━━━━━━━━━━━━━━━━━━\u001b[0m \u001b[32m2.9/2.9 MB\u001b[0m \u001b[31m48.4 MB/s\u001b[0m eta \u001b[36m0:00:00\u001b[0m\r\n",
      "\u001b[?25h  Installing build dependencies ... \u001b[?25l-\b \b\\\b \b|\b \b/\b \bdone\r\n",
      "\u001b[?25h  Getting requirements to build wheel ... \u001b[?25l-\b \bdone\r\n",
      "\u001b[?25h  Preparing metadata (pyproject.toml) ... \u001b[?25l-\b \bdone\r\n",
      "\u001b[?25hRequirement already satisfied: beautifulsoup4>=4.11.1 in /opt/conda/lib/python3.10/site-packages (from yfinance) (4.12.2)\r\n",
      "Requirement already satisfied: html5lib>=1.1 in /opt/conda/lib/python3.10/site-packages (from yfinance) (1.1)\r\n",
      "Requirement already satisfied: soupsieve>1.2 in /opt/conda/lib/python3.10/site-packages (from beautifulsoup4>=4.11.1->yfinance) (2.3.2.post1)\r\n",
      "Requirement already satisfied: six>=1.9 in /opt/conda/lib/python3.10/site-packages (from html5lib>=1.1->yfinance) (1.16.0)\r\n",
      "Requirement already satisfied: webencodings in /opt/conda/lib/python3.10/site-packages (from html5lib>=1.1->yfinance) (0.5.1)\r\n",
      "Requirement already satisfied: charset-normalizer<4,>=2 in /opt/conda/lib/python3.10/site-packages (from requests>=2.31->yfinance) (3.1.0)\r\n",
      "Requirement already satisfied: idna<4,>=2.5 in /opt/conda/lib/python3.10/site-packages (from requests>=2.31->yfinance) (3.4)\r\n",
      "Requirement already satisfied: urllib3<3,>=1.21.1 in /opt/conda/lib/python3.10/site-packages (from requests>=2.31->yfinance) (1.26.15)\r\n",
      "Requirement already satisfied: certifi>=2017.4.17 in /opt/conda/lib/python3.10/site-packages (from requests>=2.31->yfinance) (2023.7.22)\r\n",
      "Building wheels for collected packages: peewee\r\n",
      "  Building wheel for peewee (pyproject.toml) ... \u001b[?25l-\b \b\\\b \b|\b \b/\b \bdone\r\n",
      "\u001b[?25h  Created wheel for peewee: filename=peewee-3.17.0-cp310-cp310-linux_x86_64.whl size=290463 sha256=edff6fc268120136e5232a1bc65805f45ae18046e304e8e13822eb5fb1fab55d\r\n",
      "  Stored in directory: /root/.cache/pip/wheels/c7/70/ad/212867e96e7004265a69c4aa5dcff00a95f547a67ba26e7e76\r\n",
      "Successfully built peewee\r\n",
      "Installing collected packages: peewee, multitasking, yfinance\r\n",
      "Successfully installed multitasking-0.0.11 peewee-3.17.0 yfinance-0.2.31\r\n"
     ]
    }
   ],
   "source": [
    "!pip install pandas numpy matplotlib yfinance"
   ]
  },
  {
   "cell_type": "code",
   "execution_count": 3,
   "id": "a8a6362f",
   "metadata": {
    "_cell_guid": "2d23286a-a318-4e19-bf8d-d3dbcc4da703",
    "_uuid": "1ac2a1f3-cc70-40d7-803a-cd368a0d1e87",
    "collapsed": false,
    "execution": {
     "iopub.execute_input": "2023-10-21T23:20:08.095508Z",
     "iopub.status.busy": "2023-10-21T23:20:08.094338Z",
     "iopub.status.idle": "2023-10-21T23:20:08.212997Z",
     "shell.execute_reply": "2023-10-21T23:20:08.212087Z"
    },
    "jupyter": {
     "outputs_hidden": false
    },
    "papermill": {
     "duration": 0.128958,
     "end_time": "2023-10-21T23:20:08.216217",
     "exception": false,
     "start_time": "2023-10-21T23:20:08.087259",
     "status": "completed"
    },
    "tags": []
   },
   "outputs": [],
   "source": [
    "#Important Libraries\n",
    "import yfinance as yf\n",
    "import pandas as pd\n",
    "from datetime import datetime, timedelta"
   ]
  },
  {
   "cell_type": "code",
   "execution_count": 4,
   "id": "eb57a1ef",
   "metadata": {
    "_cell_guid": "38baeeaa-7960-418a-ab0a-340114e2329e",
    "_uuid": "0f63c00d-f34d-46b7-be65-15e40c56aa5d",
    "collapsed": false,
    "execution": {
     "iopub.execute_input": "2023-10-21T23:20:08.228618Z",
     "iopub.status.busy": "2023-10-21T23:20:08.228112Z",
     "iopub.status.idle": "2023-10-21T23:20:23.022873Z",
     "shell.execute_reply": "2023-10-21T23:20:23.022008Z"
    },
    "jupyter": {
     "outputs_hidden": false
    },
    "papermill": {
     "duration": 14.803322,
     "end_time": "2023-10-21T23:20:23.024941",
     "exception": false,
     "start_time": "2023-10-21T23:20:08.221619",
     "status": "completed"
    },
    "tags": []
   },
   "outputs": [
    {
     "name": "stdout",
     "output_type": "stream",
     "text": [
      "[*********************100%%**********************]  1 of 1 completed\n",
      "[*********************100%%**********************]  1 of 1 completed\n",
      "[*********************100%%**********************]  1 of 1 completed\n",
      "[*********************100%%**********************]  1 of 1 completed\n",
      "[*********************100%%**********************]  1 of 1 completed\n",
      "[*********************100%%**********************]  1 of 1 completed\n",
      "[*********************100%%**********************]  1 of 1 completed\n",
      "[*********************100%%**********************]  1 of 1 completed\n",
      "[*********************100%%**********************]  1 of 1 completed\n",
      "[*********************100%%**********************]  1 of 1 completed\n",
      "[*********************100%%**********************]  1 of 1 completed\n",
      "[*********************100%%**********************]  1 of 1 completed\n",
      "[*********************100%%**********************]  1 of 1 completed\n",
      "[*********************100%%**********************]  1 of 1 completed\n",
      "[*********************100%%**********************]  1 of 1 completed\n",
      "[*********************100%%**********************]  1 of 1 completed\n",
      "[*********************100%%**********************]  1 of 1 completed\n",
      "[*********************100%%**********************]  1 of 1 completed\n",
      "[*********************100%%**********************]  1 of 1 completed\n",
      "[*********************100%%**********************]  1 of 1 completed\n",
      "[*********************100%%**********************]  1 of 1 completed\n",
      "[*********************100%%**********************]  1 of 1 completed\n",
      "[*********************100%%**********************]  1 of 1 completed\n",
      "[*********************100%%**********************]  1 of 1 completed\n",
      "[*********************100%%**********************]  1 of 1 completed\n",
      "[*********************100%%**********************]  1 of 1 completed\n",
      "[*********************100%%**********************]  1 of 1 completed\n",
      "[*********************100%%**********************]  1 of 1 completed\n",
      "[*********************100%%**********************]  1 of 1 completed\n",
      "[*********************100%%**********************]  1 of 1 completed\n",
      "[*********************100%%**********************]  1 of 1 completed\n",
      "[*********************100%%**********************]  1 of 1 completed\n",
      "[*********************100%%**********************]  1 of 1 completed\n",
      "[*********************100%%**********************]  1 of 1 completed\n",
      "[*********************100%%**********************]  1 of 1 completed\n",
      "[*********************100%%**********************]  1 of 1 completed\n",
      "[*********************100%%**********************]  1 of 1 completed\n",
      "[*********************100%%**********************]  1 of 1 completed\n",
      "[*********************100%%**********************]  1 of 1 completed\n",
      "[*********************100%%**********************]  1 of 1 completed\n",
      "[*********************100%%**********************]  1 of 1 completed\n",
      "[*********************100%%**********************]  1 of 1 completed\n",
      "[*********************100%%**********************]  1 of 1 completed\n",
      "[*********************100%%**********************]  1 of 1 completed\n",
      "[*********************100%%**********************]  1 of 1 completed\n",
      "[*********************100%%**********************]  1 of 1 completed\n",
      "[*********************100%%**********************]  1 of 1 completed\n",
      "[*********************100%%**********************]  1 of 1 completed\n",
      "[*********************100%%**********************]  1 of 1 completed\n",
      "Data has been successfully updated and saved.\n"
     ]
    }
   ],
   "source": [
    "# Define a list of top 50 stock tickers in Canada for September 2021\n",
    "top_50_stocks = [\n",
    "    'TD.TO', 'SHOP.TO', 'RY.TO', 'BNS.TO', 'ABX.TO', 'BMO.TO', 'CM.TO', 'L.TO', 'NA.TO', 'FNV.TO',\n",
    "    'G.TO', 'TRP.TO', 'WPM.TO', 'AC.TO', 'CVE.TO', 'BHC.TO', 'CNQ.TO', 'WN.TO', 'SU.TO', 'ATD.B.TO',\n",
    "    'ENB.TO', 'MG.TO', 'K.TO', 'IMO.TO', 'SLF.TO', 'EMA.TO', 'QSR.TO', 'DOL.TO', 'CP.TO', 'SNC.TO',\n",
    "    'MFC.TO', 'MRU.TO', 'BIP.UN.TO', 'TECK.B.TO', 'POW.TO', 'FVI.TO', 'LSPD.TO', 'FTS.TO', 'TOU.TO',\n",
    "    'ATZ.TO', 'CMG.TO', 'DPM.TO', 'GSY.TO', 'FNV.TO', 'GCM.TO', 'DOO.TO', 'ABT.TO', 'FM.TO', 'RRX.TO',\n",
    "]\n",
    "\n",
    "def download_and_append_stock_data(stock_tickers, start_date, end_date, output_csv_file):\n",
    "    try:\n",
    "        # Load existing data from the CSV file (if it exists)\n",
    "        all_stock_data = pd.read_csv(output_csv_file, index_col=0)\n",
    "    except FileNotFoundError:\n",
    "        # Create an empty DataFrame if the CSV file doesn't exist\n",
    "        all_stock_data = pd.DataFrame()\n",
    "\n",
    "    for ticker in stock_tickers:\n",
    "        try:\n",
    "            # Download stock data\n",
    "            stock_data = yf.download(ticker, start=start_date, end=end_date)\n",
    "        except (ValueError, KeyError):\n",
    "            print(f\"Failed to download data for {ticker}. Skipping...\")\n",
    "            continue\n",
    "\n",
    "        if not stock_data.empty:\n",
    "            # Add stock data to the DataFrame\n",
    "            all_stock_data[ticker] = stock_data['Close']\n",
    "\n",
    "    if not all_stock_data.empty:\n",
    "        # Save the updated DataFrame to the CSV file\n",
    "        all_stock_data.to_csv(output_csv_file)\n",
    "        print(\"Data has been successfully updated and saved.\")\n",
    "    else:\n",
    "        print(\"No data was added to the CSV file. Check for errors or empty data.\")\n",
    "\n",
    "# Define the date range from January 1, 2010, to the current date\n",
    "end_date = datetime.now()\n",
    "start_date = datetime(2010, 1, 1)\n",
    "\n",
    "# Name of the output CSV file\n",
    "output_csv_file = 'top_50_canadian_stocks_data_since_2010.csv'\n",
    "\n",
    "# Call the function to download and append the data\n",
    "download_and_append_stock_data(top_50_stocks, start_date, end_date, output_csv_file)"
   ]
  }
 ],
 "metadata": {
  "kernelspec": {
   "display_name": "Python 3",
   "language": "python",
   "name": "python3"
  },
  "language_info": {
   "codemirror_mode": {
    "name": "ipython",
    "version": 3
   },
   "file_extension": ".py",
   "mimetype": "text/x-python",
   "name": "python",
   "nbconvert_exporter": "python",
   "pygments_lexer": "ipython3",
   "version": "3.10.12"
  },
  "papermill": {
   "default_parameters": {},
   "duration": 58.030529,
   "end_time": "2023-10-21T23:20:23.456981",
   "environment_variables": {},
   "exception": null,
   "input_path": "__notebook__.ipynb",
   "output_path": "__notebook__.ipynb",
   "parameters": {},
   "start_time": "2023-10-21T23:19:25.426452",
   "version": "2.4.0"
  }
 },
 "nbformat": 4,
 "nbformat_minor": 5
}
